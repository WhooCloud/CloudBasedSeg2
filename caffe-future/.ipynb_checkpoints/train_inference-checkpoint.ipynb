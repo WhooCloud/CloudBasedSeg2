{
 "cells": [
  {
   "cell_type": "code",
   "execution_count": 18,
   "metadata": {
    "collapsed": false
   },
   "outputs": [],
   "source": [
    "# %load train_inference.py\n",
    "import numpy as np\n",
    "import scipy.io\n",
    "import caffe\n",
    "import os\n",
    "import random\n",
    "import time\n",
    "\n",
    "from scipy import misc\n",
    "from scipy import ndimage\n",
    "from PIL import Image\n",
    "from PIL import ImageFilter\n",
    "import matplotlib.pyplot as plt\n",
    "def imageProcess(inferfile):\n",
    "    inference = Image.open(inferfile)\n",
    "    inference = inference.filter(ImageFilter.MedianFilter(9))\n",
    "    infer = np.array(inference)\n",
    "    infer = infer[:,:,0]    \n",
    "\n",
    "    label_im, nb_labels = ndimage.label(infer)\n",
    "    sizes = ndimage.sum(infer, label_im, range(nb_labels + 1))\n",
    "    maxsize = sizes.argsort()[-1]\n",
    "    mask_size = np.ones(sizes.size, dtype = 'bool')\n",
    "    mask_size[maxsize] = 0\n",
    "    remove_pixel = mask_size[label_im]\n",
    "    infer[remove_pixel] = 0\n",
    "    return infer\n",
    "#def inferrobot(robotid, gpuid):\n",
    "rootpath = '/home/ubuntu/pynb/caffe-future/train/'\n",
    "deploypath = rootpath + 'config/deploy.prototxt'\n",
    "weightspath = rootpath + 'model/_iter_100.caffemodel'\n",
    "\n",
    "caffe.set_device(0)\n",
    "caffe.set_mode_gpu()\n",
    "\n",
    "imagepath = rootpath + 'image.jpg'\n",
    "outimagepath = rootpath + 'inference.jpg'\n",
    "net = caffe.Net(deploypath, weightspath, caffe.TEST)\n",
    "\n",
    "im = Image.open(imagepath)\n",
    "in_ = np.array(im, dtype=np.float32)\n",
    "in_ = in_[:,:,::-1]\n",
    "in_ -= np.array((104.00698793,116.66876762,122.67891434))\n",
    "in_ = in_.transpose((2,0,1))\n",
    "\n",
    "net.blobs['data'].reshape(1, *in_.shape)\n",
    "net.blobs['data'].data[...] = in_\n",
    "\n",
    "net.forward()\n",
    "out = net.blobs['score'].data[0].argmax(axis=0)\n",
    "temp = np.array([out,out,out], dtype = 'uint8')\n",
    "temp = temp.transpose([1,2,0])\n",
    "outimage = Image.fromarray(temp)\n",
    "outimage.save(outimagepath, 'jpeg')\n",
    "\n",
    "infer = imageProcess(outimagepath)\n",
    "image = misc.imread(imagepath)\n",
    "mask_carpet = infer == 1\n",
    "image[mask_carpet] = [255,0,0]\n",
    "\n",
    "saveimage= Image.fromarray(image)\n",
    "saveimage.save('./result.jpg', 'jpeg')\n",
    "#if __name__ == '__main__':\n",
    "#    inferrobot('1003',0)"
   ]
  },
  {
   "cell_type": "code",
   "execution_count": null,
   "metadata": {
    "collapsed": true
   },
   "outputs": [],
   "source": []
  }
 ],
 "metadata": {
  "hide_input": false,
  "kernelspec": {
   "display_name": "Python 2",
   "language": "python",
   "name": "python2"
  },
  "language_info": {
   "codemirror_mode": {
    "name": "ipython",
    "version": 2
   },
   "file_extension": ".py",
   "mimetype": "text/x-python",
   "name": "python",
   "nbconvert_exporter": "python",
   "pygments_lexer": "ipython2",
   "version": "2.7.6"
  }
 },
 "nbformat": 4,
 "nbformat_minor": 1
}
