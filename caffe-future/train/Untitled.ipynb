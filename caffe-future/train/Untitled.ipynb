{
 "cells": [
  {
   "cell_type": "code",
   "execution_count": 4,
   "metadata": {
    "collapsed": false
   },
   "outputs": [
    {
     "name": "stdout",
     "output_type": "stream",
     "text": [
      "/home/yun/lalala\n"
     ]
    }
   ],
   "source": [
    "save_dir = '/home/yun/lalala'\n",
    "save_dir = save_dir.format(300)\n",
    "print save_dir"
   ]
  },
  {
   "cell_type": "code",
   "execution_count": 8,
   "metadata": {
    "collapsed": false
   },
   "outputs": [
    {
     "name": "stdout",
     "output_type": "stream",
     "text": [
      "/home/ubuntu/pynb/caffe-future/train/model/_iter_1000.caffemodel\n"
     ]
    }
   ],
   "source": [
    "rootpath = '/home/ubuntu/pynb/caffe-future/train/'\n",
    "weightssavepath = rootpath +'model/'\n",
    "i = 10\n",
    "path = weightssavepath + '_iter_' +  str(i*100) + '.caffemodel'\n",
    "print path"
   ]
  },
  {
   "cell_type": "code",
   "execution_count": null,
   "metadata": {
    "collapsed": true
   },
   "outputs": [],
   "source": []
  }
 ],
 "metadata": {
  "hide_input": false,
  "kernelspec": {
   "display_name": "Python 2",
   "language": "python",
   "name": "python2"
  },
  "language_info": {
   "codemirror_mode": {
    "name": "ipython",
    "version": 2
   },
   "file_extension": ".py",
   "mimetype": "text/x-python",
   "name": "python",
   "nbconvert_exporter": "python",
   "pygments_lexer": "ipython2",
   "version": "2.7.6"
  }
 },
 "nbformat": 4,
 "nbformat_minor": 1
}
